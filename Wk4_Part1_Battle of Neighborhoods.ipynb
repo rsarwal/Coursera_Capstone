{
 "cells": [
  {
   "cell_type": "markdown",
   "metadata": {},
   "source": [
    "### BATTLE OF THE NEIGHBORHOODS\n",
    "## Schools govern Relocation to New Place- Myth or Reality: Case Study of Charlotte Area, NC\n",
    "\n",
    "### Introduction\n",
    "#### The Battle of the Neighborhoods is a capstone project for Coursera and IBM’s Data Science Specialization. This project encompasses the vision of the Data Scientist to portray the tools learned during 9 courses on data analysis for the certification. One of the requirements is to use Foursquare location to explore and solve the neighborhood analysis using clustering method.\n",
    "### Background\n",
    "#### “Schools govern Relocation to New Place- Myth or Reality: Case Study of Charlotte Area, NC” is a project taken to understand how the schools affect the relocation to a new place/ neighborhood. Charlotte area is known for its Banking jobs and the increase of financial institutions making Charlotte and its surrounding areas, their financial headquarter.\n",
    "### Business Problem ## \n",
    "#### The goal of this project is to find a neighborhood for a person relocating with his family to Charlotte, NC. A family man requires an easily accessible neighborhood with some good schools. Certainty and uncertainty of renting or owning a house revolves around a good neighborhood. Estate agents try to their potential to sell houses that are most profitable to them. Personally, having a little insight about the area and its neighborhoods can help the family plan their relocation smoothly.\n",
    "#### This study is an attempt to find such a neighborhood for a family with school going children.\n"
   ]
  },
  {
   "cell_type": "code",
   "execution_count": null,
   "metadata": {},
   "outputs": [],
   "source": []
  }
 ],
 "metadata": {
  "kernelspec": {
   "display_name": "Python",
   "language": "python",
   "name": "conda-env-python-py"
  },
  "language_info": {
   "codemirror_mode": {
    "name": "ipython",
    "version": 3
   },
   "file_extension": ".py",
   "mimetype": "text/x-python",
   "name": "python",
   "nbconvert_exporter": "python",
   "pygments_lexer": "ipython3",
   "version": "3.6.7"
  }
 },
 "nbformat": 4,
 "nbformat_minor": 4
}
